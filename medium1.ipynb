{
 "cells": [
  {
   "cell_type": "code",
   "execution_count": 1,
   "id": "89cf6f1e",
   "metadata": {},
   "outputs": [],
   "source": [
    "from collections import Counter"
   ]
  },
  {
   "cell_type": "code",
   "execution_count": 5,
   "id": "b1b0110a",
   "metadata": {},
   "outputs": [],
   "source": [
    "def majority_elements(nums):\n",
    "    counts = Counter(nums)\n",
    "    threshold = len(nums) // 3\n",
    "    result = [num for num, count in counts.items() if count > threshold]\n",
    "    return result"
   ]
  },
  {
   "cell_type": "code",
   "execution_count": 6,
   "id": "bd9f4a12",
   "metadata": {},
   "outputs": [
    {
     "name": "stdout",
     "output_type": "stream",
     "text": [
      "[3]\n"
     ]
    }
   ],
   "source": [
    "# Example 1\n",
    "nums1 = [3, 2, 3]\n",
    "print(majority_elements(nums1))  "
   ]
  },
  {
   "cell_type": "code",
   "execution_count": 7,
   "id": "ff483dd5",
   "metadata": {},
   "outputs": [
    {
     "name": "stdout",
     "output_type": "stream",
     "text": [
      "[1]\n"
     ]
    }
   ],
   "source": [
    "# Example 2\n",
    "nums2 = [1]\n",
    "print(majority_elements(nums2)) "
   ]
  },
  {
   "cell_type": "code",
   "execution_count": 8,
   "id": "b55624f1",
   "metadata": {},
   "outputs": [
    {
     "name": "stdout",
     "output_type": "stream",
     "text": [
      "[1, 2]\n"
     ]
    }
   ],
   "source": [
    "# Example 3\n",
    "nums3 = [1, 2]\n",
    "print(majority_elements(nums3)) "
   ]
  },
  {
   "cell_type": "code",
   "execution_count": null,
   "id": "f2a67327",
   "metadata": {},
   "outputs": [],
   "source": []
  }
 ],
 "metadata": {
  "kernelspec": {
   "display_name": "Python 3 (ipykernel)",
   "language": "python",
   "name": "python3"
  },
  "language_info": {
   "codemirror_mode": {
    "name": "ipython",
    "version": 3
   },
   "file_extension": ".py",
   "mimetype": "text/x-python",
   "name": "python",
   "nbconvert_exporter": "python",
   "pygments_lexer": "ipython3",
   "version": "3.9.13"
  }
 },
 "nbformat": 4,
 "nbformat_minor": 5
}
